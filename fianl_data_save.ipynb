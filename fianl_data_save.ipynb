{
 "cells": [
  {
   "cell_type": "code",
   "execution_count": 1,
   "metadata": {},
   "outputs": [
    {
     "name": "stdout",
     "output_type": "stream",
     "text": [
      "병합할 CSV 파일 개수: 80\n"
     ]
    },
    {
     "name": "stderr",
     "output_type": "stream",
     "text": [
      "C:\\Users\\user\\AppData\\Local\\Temp\\ipykernel_20520\\1766780207.py:15: DtypeWarning: Columns (8) have mixed types. Specify dtype option on import or set low_memory=False.\n",
      "  final_data = pd.concat((pd.read_csv(file) for file in csv_files), ignore_index=True)\n"
     ]
    },
    {
     "name": "stdout",
     "output_type": "stream",
     "text": [
      "최종 데이터 shape: (7911696, 10)\n"
     ]
    }
   ],
   "source": [
    "import glob\n",
    "import os\n",
    "import pandas as pd\n",
    "\n",
    "# ── 1. CSV 파일 경로 찾기 ──\n",
    "# movies_chunk_*_with_title.csv 파일들을 지정한 폴더에서 찾습니다.\n",
    "csv_folder = r\"C:\\Users\\user\\OneDrive\\문서\\과제\\2025-1\\캡스톤 디자인\\movies_chunk\"\n",
    "file_pattern = os.path.join(csv_folder, \"movies_chunk_*_with_title.csv\")\n",
    "csv_files = glob.glob(file_pattern)\n",
    "\n",
    "print(\"병합할 CSV 파일 개수:\", len(csv_files))\n",
    "\n",
    "# ── 2. 각 CSV 파일을 읽어서 final_data 변수에 병합하기 ──\n",
    "# generator 표현식을 사용하여 각 CSV 파일을 순차적으로 읽습니다.\n",
    "final_data = pd.concat((pd.read_csv(file) for file in csv_files), ignore_index=True)\n",
    "\n",
    "print(\"최종 데이터 shape:\", final_data.shape)\n"
   ]
  },
  {
   "cell_type": "code",
   "execution_count": 2,
   "metadata": {},
   "outputs": [
    {
     "data": {
      "text/html": [
       "<div>\n",
       "<style scoped>\n",
       "    .dataframe tbody tr th:only-of-type {\n",
       "        vertical-align: middle;\n",
       "    }\n",
       "\n",
       "    .dataframe tbody tr th {\n",
       "        vertical-align: top;\n",
       "    }\n",
       "\n",
       "    .dataframe thead th {\n",
       "        text-align: right;\n",
       "    }\n",
       "</style>\n",
       "<table border=\"1\" class=\"dataframe\">\n",
       "  <thead>\n",
       "    <tr style=\"text-align: right;\">\n",
       "      <th></th>\n",
       "      <th>product/productId</th>\n",
       "      <th>review/userId</th>\n",
       "      <th>review/profileName</th>\n",
       "      <th>review/helpfulness</th>\n",
       "      <th>review/score</th>\n",
       "      <th>review/time</th>\n",
       "      <th>review/summary</th>\n",
       "      <th>review/text</th>\n",
       "      <th>movie_title</th>\n",
       "      <th>infects a dog, and in a wonderfully gory scene, literally busts out of the dog's body (if you're an animal lover, don't watch that).  The Thing then begins to take the form of members of the team of scientists, and this is where the suspense really builds.  The people are trapped, no way out, with each other, and one of them is the Thing.  At first, when I saw the end of the movie, I thought, &amp;quot;What the hell kind of ending was that?&amp;quot;  But it is really cool, actually.  It just goes back to the question that is asked throughout the whole movie</th>\n",
       "    </tr>\n",
       "  </thead>\n",
       "  <tbody>\n",
       "    <tr>\n",
       "      <th>0</th>\n",
       "      <td>B003AI2VGA</td>\n",
       "      <td>A141HP4LYPWMSR</td>\n",
       "      <td>Brian E. Erland \"Rainbow Sphinx\"</td>\n",
       "      <td>7/7</td>\n",
       "      <td>3.0</td>\n",
       "      <td>1.182730e+09</td>\n",
       "      <td>\"There Is So Much Darkness Now ~ Come For The ...</td>\n",
       "      <td>Synopsis: On the daily trek from Juarez, Mexic...</td>\n",
       "      <td>NaN</td>\n",
       "      <td>NaN</td>\n",
       "    </tr>\n",
       "    <tr>\n",
       "      <th>1</th>\n",
       "      <td>B003AI2VGA</td>\n",
       "      <td>A328S9RN3U5M68</td>\n",
       "      <td>Grady Harp</td>\n",
       "      <td>4/4</td>\n",
       "      <td>3.0</td>\n",
       "      <td>1.181952e+09</td>\n",
       "      <td>Worthwhile and Important Story Hampered by Poo...</td>\n",
       "      <td>THE VIRGIN OF JUAREZ is based on true events s...</td>\n",
       "      <td>NaN</td>\n",
       "      <td>NaN</td>\n",
       "    </tr>\n",
       "    <tr>\n",
       "      <th>2</th>\n",
       "      <td>B003AI2VGA</td>\n",
       "      <td>A1I7QGUDP043DG</td>\n",
       "      <td>Chrissy K. McVay \"Writer\"</td>\n",
       "      <td>8/10</td>\n",
       "      <td>5.0</td>\n",
       "      <td>1.164845e+09</td>\n",
       "      <td>This movie needed to be made.</td>\n",
       "      <td>The scenes in this film can be very disquietin...</td>\n",
       "      <td>NaN</td>\n",
       "      <td>NaN</td>\n",
       "    </tr>\n",
       "    <tr>\n",
       "      <th>3</th>\n",
       "      <td>B003AI2VGA</td>\n",
       "      <td>A1M5405JH9THP9</td>\n",
       "      <td>golgotha.gov</td>\n",
       "      <td>1/1</td>\n",
       "      <td>3.0</td>\n",
       "      <td>1.197158e+09</td>\n",
       "      <td>distantly based on a real tragedy</td>\n",
       "      <td>THE VIRGIN OF JUAREZ (2006)&lt;br /&gt;directed by K...</td>\n",
       "      <td>NaN</td>\n",
       "      <td>NaN</td>\n",
       "    </tr>\n",
       "    <tr>\n",
       "      <th>4</th>\n",
       "      <td>B003AI2VGA</td>\n",
       "      <td>ATXL536YX71TR</td>\n",
       "      <td>KerrLines \"&amp;#34;Movies,Music,Theatre&amp;#34;\"</td>\n",
       "      <td>1/1</td>\n",
       "      <td>3.0</td>\n",
       "      <td>1.188346e+09</td>\n",
       "      <td>\"What's going on down in Juarez and shining a ...</td>\n",
       "      <td>Informationally, this SHOWTIME original is ess...</td>\n",
       "      <td>NaN</td>\n",
       "      <td>NaN</td>\n",
       "    </tr>\n",
       "  </tbody>\n",
       "</table>\n",
       "</div>"
      ],
      "text/plain": [
       "  product/productId   review/userId  \\\n",
       "0        B003AI2VGA  A141HP4LYPWMSR   \n",
       "1        B003AI2VGA  A328S9RN3U5M68   \n",
       "2        B003AI2VGA  A1I7QGUDP043DG   \n",
       "3        B003AI2VGA  A1M5405JH9THP9   \n",
       "4        B003AI2VGA   ATXL536YX71TR   \n",
       "\n",
       "                           review/profileName review/helpfulness  \\\n",
       "0            Brian E. Erland \"Rainbow Sphinx\"                7/7   \n",
       "1                                  Grady Harp                4/4   \n",
       "2                   Chrissy K. McVay \"Writer\"               8/10   \n",
       "3                                golgotha.gov                1/1   \n",
       "4  KerrLines \"&#34;Movies,Music,Theatre&#34;\"                1/1   \n",
       "\n",
       "   review/score   review/time  \\\n",
       "0           3.0  1.182730e+09   \n",
       "1           3.0  1.181952e+09   \n",
       "2           5.0  1.164845e+09   \n",
       "3           3.0  1.197158e+09   \n",
       "4           3.0  1.188346e+09   \n",
       "\n",
       "                                      review/summary  \\\n",
       "0  \"There Is So Much Darkness Now ~ Come For The ...   \n",
       "1  Worthwhile and Important Story Hampered by Poo...   \n",
       "2                      This movie needed to be made.   \n",
       "3                  distantly based on a real tragedy   \n",
       "4  \"What's going on down in Juarez and shining a ...   \n",
       "\n",
       "                                         review/text movie_title  \\\n",
       "0  Synopsis: On the daily trek from Juarez, Mexic...         NaN   \n",
       "1  THE VIRGIN OF JUAREZ is based on true events s...         NaN   \n",
       "2  The scenes in this film can be very disquietin...         NaN   \n",
       "3  THE VIRGIN OF JUAREZ (2006)<br />directed by K...         NaN   \n",
       "4  Informationally, this SHOWTIME original is ess...         NaN   \n",
       "\n",
       "  infects a dog, and in a wonderfully gory scene, literally busts out of the dog's body (if you're an animal lover, don't watch that).  The Thing then begins to take the form of members of the team of scientists, and this is where the suspense really builds.  The people are trapped, no way out, with each other, and one of them is the Thing.  At first, when I saw the end of the movie, I thought, &quot;What the hell kind of ending was that?&quot;  But it is really cool, actually.  It just goes back to the question that is asked throughout the whole movie  \n",
       "0                                                NaN                                                                                                                                                                                                                                                                                                                                                                                                                                                                                                                            \n",
       "1                                                NaN                                                                                                                                                                                                                                                                                                                                                                                                                                                                                                                            \n",
       "2                                                NaN                                                                                                                                                                                                                                                                                                                                                                                                                                                                                                                            \n",
       "3                                                NaN                                                                                                                                                                                                                                                                                                                                                                                                                                                                                                                            \n",
       "4                                                NaN                                                                                                                                                                                                                                                                                                                                                                                                                                                                                                                            "
      ]
     },
     "execution_count": 2,
     "metadata": {},
     "output_type": "execute_result"
    }
   ],
   "source": [
    "final_data.head()"
   ]
  },
  {
   "cell_type": "code",
   "execution_count": 3,
   "metadata": {},
   "outputs": [],
   "source": [
    "final_data = final_data.drop(columns=\"infects a dog, and in a wonderfully gory scene, literally busts out of the dog's body (if you're an animal lover, don't watch that).  The Thing then begins to take the form of members of the team of scientists, and this is where the suspense really builds.  The people are trapped, no way out, with each other, and one of them is the Thing.  At first, when I saw the end of the movie, I thought, &quot;What the hell kind of ending was that?&quot;  But it is really cool, actually.  It just goes back to the question that is asked throughout the whole movie\")\n"
   ]
  },
  {
   "cell_type": "code",
   "execution_count": 4,
   "metadata": {},
   "outputs": [],
   "source": [
    "final_data = final_data.dropna()"
   ]
  },
  {
   "cell_type": "code",
   "execution_count": 5,
   "metadata": {},
   "outputs": [],
   "source": [
    "final_data = final_data.drop(columns=['review/userId', 'review/profileName', 'review/helpfulness', 'review/time'])"
   ]
  },
  {
   "cell_type": "code",
   "execution_count": 7,
   "metadata": {},
   "outputs": [],
   "source": [
    "final_data = final_data.rename(columns={\n",
    "    'product/productId': 'item_id',\n",
    "    'review/score': 'rating',\n",
    "    'review/summary': 'summary',\n",
    "    'review/text': 'text',\n",
    "    'movie_title': 'title'\n",
    "})"
   ]
  },
  {
   "cell_type": "code",
   "execution_count": 8,
   "metadata": {},
   "outputs": [
    {
     "data": {
      "text/plain": [
       "(1262842, 5)"
      ]
     },
     "execution_count": 8,
     "metadata": {},
     "output_type": "execute_result"
    }
   ],
   "source": [
    "final_data.shape"
   ]
  },
  {
   "cell_type": "code",
   "execution_count": 9,
   "metadata": {},
   "outputs": [
    {
     "data": {
      "text/plain": [
       "item_id    0\n",
       "rating     0\n",
       "summary    0\n",
       "text       0\n",
       "title      0\n",
       "dtype: int64"
      ]
     },
     "execution_count": 9,
     "metadata": {},
     "output_type": "execute_result"
    }
   ],
   "source": [
    "final_data.isnull().sum()"
   ]
  },
  {
   "cell_type": "code",
   "execution_count": 10,
   "metadata": {},
   "outputs": [],
   "source": [
    "final_data.to_csv('final_data.csv', index=False)"
   ]
  },
  {
   "cell_type": "code",
   "execution_count": null,
   "metadata": {},
   "outputs": [],
   "source": []
  }
 ],
 "metadata": {
  "kernelspec": {
   "display_name": "base",
   "language": "python",
   "name": "python3"
  },
  "language_info": {
   "codemirror_mode": {
    "name": "ipython",
    "version": 3
   },
   "file_extension": ".py",
   "mimetype": "text/x-python",
   "name": "python",
   "nbconvert_exporter": "python",
   "pygments_lexer": "ipython3",
   "version": "3.9.13"
  }
 },
 "nbformat": 4,
 "nbformat_minor": 2
}
