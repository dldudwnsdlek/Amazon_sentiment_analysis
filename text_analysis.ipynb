{
 "cells": [
  {
   "cell_type": "markdown",
   "metadata": {},
   "source": [
    "# 1. 필요한 라이브러리 로드"
   ]
  },
  {
   "cell_type": "code",
   "execution_count": 21,
   "metadata": {},
   "outputs": [],
   "source": [
    "import pandas as pd\n",
    "import numpy as np\n",
    "import seaborn as sns\n",
    "import matplotlib.pyplot as plt\n",
    "import re"
   ]
  },
  {
   "cell_type": "markdown",
   "metadata": {},
   "source": [
    "# 2. 데이터 로드"
   ]
  },
  {
   "cell_type": "code",
   "execution_count": 3,
   "metadata": {},
   "outputs": [
    {
     "data": {
      "text/html": [
       "<div>\n",
       "<style scoped>\n",
       "    .dataframe tbody tr th:only-of-type {\n",
       "        vertical-align: middle;\n",
       "    }\n",
       "\n",
       "    .dataframe tbody tr th {\n",
       "        vertical-align: top;\n",
       "    }\n",
       "\n",
       "    .dataframe thead th {\n",
       "        text-align: right;\n",
       "    }\n",
       "</style>\n",
       "<table border=\"1\" class=\"dataframe\">\n",
       "  <thead>\n",
       "    <tr style=\"text-align: right;\">\n",
       "      <th></th>\n",
       "      <th>item_id</th>\n",
       "      <th>rating</th>\n",
       "      <th>summary</th>\n",
       "      <th>text</th>\n",
       "      <th>title</th>\n",
       "    </tr>\n",
       "  </thead>\n",
       "  <tbody>\n",
       "    <tr>\n",
       "      <th>0</th>\n",
       "      <td>B000063W1R</td>\n",
       "      <td>5.0</td>\n",
       "      <td>One of my favorites!</td>\n",
       "      <td>This is one of my all-time favorite movies for...</td>\n",
       "      <td>The Count of Monte Cristo [Region 2]</td>\n",
       "    </tr>\n",
       "    <tr>\n",
       "      <th>1</th>\n",
       "      <td>B000063W1R</td>\n",
       "      <td>5.0</td>\n",
       "      <td>GREAT movie</td>\n",
       "      <td>LOVE this movie - loved it when it first came ...</td>\n",
       "      <td>The Count of Monte Cristo [Region 2]</td>\n",
       "    </tr>\n",
       "    <tr>\n",
       "      <th>2</th>\n",
       "      <td>B000063W1R</td>\n",
       "      <td>5.0</td>\n",
       "      <td>I love a well rounded movie, don't you?</td>\n",
       "      <td>This movie has everything I like: a great stor...</td>\n",
       "      <td>The Count of Monte Cristo [Region 2]</td>\n",
       "    </tr>\n",
       "    <tr>\n",
       "      <th>3</th>\n",
       "      <td>B000063W1R</td>\n",
       "      <td>5.0</td>\n",
       "      <td>The Count of Monte Cristo (Blu-ray)</td>\n",
       "      <td>Great Blu-ray DVD for the price!  The graphic ...</td>\n",
       "      <td>The Count of Monte Cristo [Region 2]</td>\n",
       "    </tr>\n",
       "    <tr>\n",
       "      <th>4</th>\n",
       "      <td>B000063W1R</td>\n",
       "      <td>4.0</td>\n",
       "      <td>Revenge, served by Jim Cavizel</td>\n",
       "      <td>I love this movie! Sure, the acting isn't osca...</td>\n",
       "      <td>The Count of Monte Cristo [Region 2]</td>\n",
       "    </tr>\n",
       "  </tbody>\n",
       "</table>\n",
       "</div>"
      ],
      "text/plain": [
       "      item_id  rating                                  summary  \\\n",
       "0  B000063W1R     5.0                     One of my favorites!   \n",
       "1  B000063W1R     5.0                              GREAT movie   \n",
       "2  B000063W1R     5.0  I love a well rounded movie, don't you?   \n",
       "3  B000063W1R     5.0      The Count of Monte Cristo (Blu-ray)   \n",
       "4  B000063W1R     4.0           Revenge, served by Jim Cavizel   \n",
       "\n",
       "                                                text  \\\n",
       "0  This is one of my all-time favorite movies for...   \n",
       "1  LOVE this movie - loved it when it first came ...   \n",
       "2  This movie has everything I like: a great stor...   \n",
       "3  Great Blu-ray DVD for the price!  The graphic ...   \n",
       "4  I love this movie! Sure, the acting isn't osca...   \n",
       "\n",
       "                                  title  \n",
       "0  The Count of Monte Cristo [Region 2]  \n",
       "1  The Count of Monte Cristo [Region 2]  \n",
       "2  The Count of Monte Cristo [Region 2]  \n",
       "3  The Count of Monte Cristo [Region 2]  \n",
       "4  The Count of Monte Cristo [Region 2]  "
      ]
     },
     "execution_count": 3,
     "metadata": {},
     "output_type": "execute_result"
    }
   ],
   "source": [
    "df = pd.read_csv(r\"C:\\Users\\user\\OneDrive\\문서\\과제\\2025-1\\캡스톤 디자인\\final_data.csv\")\n",
    "df.head()"
   ]
  },
  {
   "cell_type": "markdown",
   "metadata": {},
   "source": [
    "# 3. EDA"
   ]
  },
  {
   "cell_type": "code",
   "execution_count": 5,
   "metadata": {},
   "outputs": [
    {
     "name": "stdout",
     "output_type": "stream",
     "text": [
      "데이터프레임 형태: (1262842, 5)\n",
      "\n",
      "컬럼별 데이터 타입:\n",
      "item_id     object\n",
      "rating     float64\n",
      "summary     object\n",
      "text        object\n",
      "title       object\n",
      "dtype: object\n",
      "\n",
      "컬럼별 결측치 개수:\n",
      "item_id    0\n",
      "rating     0\n",
      "summary    0\n",
      "text       0\n",
      "title      0\n",
      "dtype: int64\n"
     ]
    }
   ],
   "source": [
    "# 1. 데이터프레임 기본 구조 확인\n",
    "print(\"데이터프레임 형태:\", df.shape)\n",
    "print(\"\\n컬럼별 데이터 타입:\")\n",
    "print(df.dtypes)\n",
    "\n",
    "# 2. 결측치 확인\n",
    "print(\"\\n컬럼별 결측치 개수:\")\n",
    "print(df.isnull().sum())"
   ]
  },
  {
   "cell_type": "code",
   "execution_count": 6,
   "metadata": {},
   "outputs": [
    {
     "name": "stdout",
     "output_type": "stream",
     "text": [
      "\n",
      "영화 수 (item_id 기준): 70573\n",
      "영화 제목 수 (title 기준): 69317\n",
      "리뷰 수: 1262842\n"
     ]
    }
   ],
   "source": [
    "# 3. 주요 컬럼의 유니크 값 개수\n",
    "print(\"\\n영화 수 (item_id 기준):\", df['item_id'].nunique())\n",
    "print(\"영화 제목 수 (title 기준):\", df['title'].nunique())\n",
    "print(\"리뷰 수:\", len(df))"
   ]
  },
  {
   "cell_type": "code",
   "execution_count": null,
   "metadata": {},
   "outputs": [
    {
     "name": "stdout",
     "output_type": "stream",
     "text": [
      "정규화한 제목 수: 69273\n"
     ]
    }
   ],
   "source": [
    "# 4. 제목 정규화 진행(소문자)\n",
    "df['title_clean'] = df['title'].str.strip().str.lower()\n",
    "print(\"정규화한 제목 수:\", df['title_clean'].nunique())"
   ]
  },
  {
   "cell_type": "code",
   "execution_count": null,
   "metadata": {},
   "outputs": [
    {
     "name": "stdout",
     "output_type": "stream",
     "text": [
      "에디션 제거 후 제목 수: 67612\n"
     ]
    }
   ],
   "source": [
    "# 4. 제목 정규화 진행(태그 떼기)\n",
    "\n",
    "def clean_edition(title):\n",
    "    return re.sub(r'\\[.*?\\]', '', title).strip()\n",
    "\n",
    "df['title_basic'] = df['title_clean'].apply(clean_edition)\n",
    "print(\"에디션 제거 후 제목 수:\", df['title_basic'].nunique())"
   ]
  },
  {
   "cell_type": "code",
   "execution_count": null,
   "metadata": {},
   "outputs": [
    {
     "data": {
      "image/png": "[encoded data removed]",
      "text/plain": [
       "<Figure size 800x500 with 1 Axes>"
      ]
     },
     "metadata": {},
     "output_type": "display_data"
    },
    {
     "name": "stdout",
     "output_type": "stream",
     "text": [
      "1.0     93141\n",
      "2.0     71403\n",
      "3.0    127353\n",
      "4.0    267236\n",
      "5.0    703709\n",
      "Name: rating, dtype: int64\n"
     ]
    }
   ],
   "source": [
    "# 5. 평점에 따른 리뷰 수 시각화\n",
    "\n",
    "plt.rcParams['font.family'] ='Malgun Gothic'\n",
    "plt.rcParams['axes.unicode_minus'] =False\n",
    "\n",
    "plt.figure(figsize=(8, 5))\n",
    "sns.histplot(df['rating'], bins=10, kde=False)\n",
    "plt.title(\"전체 평점 분포\")\n",
    "plt.xlabel(\"Rating\")\n",
    "plt.ylabel(\"리뷰 수\")\n",
    "plt.show()\n",
    "\n",
    "print(df['rating'].value_counts().sort_index())\n"
   ]
  },
  {
   "cell_type": "code",
   "execution_count": null,
   "metadata": {},
   "outputs": [
    {
     "name": "stdout",
     "output_type": "stream",
     "text": [
      "                                       rating_mean  rating_count\n",
      "title_basic                                                     \n",
      "the village                               3.313823          1606\n",
      "the big lebowski                          4.420455          1584\n",
      "babel                                     3.249377          1203\n",
      "dawn of the dead                          4.310282          1099\n",
      "memento                                   4.287335          1058\n",
      "the 10th kingdom                          4.594118          1020\n",
      "secondhand lions                          4.648221          1012\n",
      "run lola run                              4.588785           963\n",
      "iron man (ultimate 2 disc edition)        4.450811           925\n",
      "cars (single-disc widescreen edition)     4.586475           902\n"
     ]
    }
   ],
   "source": [
    "# 6. 리뷰 수 상위 10개 영화 평균평점\n",
    "movie_stats = df.groupby('title_basic').agg(\n",
    "    rating_mean=('rating', 'mean'),\n",
    "    rating_count=('rating', 'count')\n",
    ").sort_values(by='rating_count', ascending=False)\n",
    "\n",
    "print(movie_stats.head(10))  # 리뷰 수 기준 상위 10개 영화"
   ]
  },
  {
   "cell_type": "code",
   "execution_count": null,
   "metadata": {},
   "outputs": [
    {
     "name": "stdout",
     "output_type": "stream",
     "text": [
      "                                                    rating_mean  rating_count\n",
      "title_basic                                                                  \n",
      "food production systems for a backyard or small...     4.964286           224\n",
      "the umbrellas of cherbourg                             4.953846           130\n",
      "9/11 - the filmmakers' commemorative edition           4.951613           248\n",
      "martin - the complete first season                     4.947712           153\n",
      "third watch: season 1                                  4.947214           341\n",
      "arrested development: season 2                         4.940426           235\n",
      "the color of paradise                                  4.916667           120\n",
      "electric dreams                                        4.916667           144\n",
      "scarecrow and mrs. king: season 1                      4.916201           358\n",
      "scrubs - the complete first season                     4.914815           270\n"
     ]
    }
   ],
   "source": [
    "# 7. 리뷰 수가 100개 이상인 영화 중 평균 평점 높은 상위 10개\n",
    "popular_highly_rated = movie_stats[movie_stats['rating_count'] >= 100]\\\n",
    "    .sort_values(by='rating_mean', ascending=False).head(10)\n",
    "\n",
    "print(popular_highly_rated)"
   ]
  },
  {
   "cell_type": "markdown",
   "metadata": {},
   "source": [
    "- 영화 id 수와 영화 제목 수가 불일치 하는 것을 확인.      \n",
    "&rightarrow; 고전 영화들 영향으로 추정."
   ]
  },
  {
   "cell_type": "markdown",
   "metadata": {},
   "source": [
    "# 4. text 분석"
   ]
  },
  {
   "cell_type": "code",
   "execution_count": null,
   "metadata": {},
   "outputs": [],
   "source": []
  }
 ],
 "metadata": {
  "kernelspec": {
   "display_name": "base",
   "language": "python",
   "name": "python3"
  },
  "language_info": {
   "codemirror_mode": {
    "name": "ipython",
    "version": 3
   },
   "file_extension": ".py",
   "mimetype": "text/x-python",
   "name": "python",
   "nbconvert_exporter": "python",
   "pygments_lexer": "ipython3",
   "version": "3.9.13"
  }
 },
 "nbformat": 4,
 "nbformat_minor": 2
}
